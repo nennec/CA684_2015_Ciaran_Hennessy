{
 "metadata": {
  "name": "",
  "signature": "sha256:37cca5a4dac982b96bdbd4261e392acd5b0a9a126a8c2978af91ee6c330d3856"
 },
 "nbformat": 3,
 "nbformat_minor": 0,
 "worksheets": [
  {
   "cells": [
    {
     "cell_type": "heading",
     "level": 1,
     "metadata": {},
     "source": [
      "Bike Sharing Demand"
     ]
    },
    {
     "cell_type": "markdown",
     "metadata": {},
     "source": [
      "http://www.kaggle.com/c/bike-sharing-demand/"
     ]
    },
    {
     "cell_type": "heading",
     "level": 3,
     "metadata": {},
     "source": [
      "Introduction"
     ]
    },
    {
     "cell_type": "markdown",
     "metadata": {},
     "source": [
      "The kaggle.com \"Bike Sharing Demand\" competition involves predicting the usage of rental bikes in a city over a two year period. The competition provides the hourly usage, per day, for the 1st to the 20th of each month of the two years. Competitors are asked to predict the hourly usage for the remainder of each month."
     ]
    },
    {
     "cell_type": "heading",
     "level": 3,
     "metadata": {},
     "source": [
      "Feature engineering"
     ]
    },
    {
     "cell_type": "markdown",
     "metadata": {},
     "source": [
      "The first step undertaken is to load view the data."
     ]
    },
    {
     "cell_type": "code",
     "collapsed": false,
     "input": [
      "import pandas as pd\n",
      "import warnings\n",
      "warnings.filterwarnings('ignore')\n",
      "\n",
      "train = pd.read_csv('train.csv', parse_dates=[0], infer_datetime_format=True)\n",
      "test = pd.read_csv('test.csv', parse_dates=[0], infer_datetime_format=True)\n",
      "\n",
      "print train.head()"
     ],
     "language": "python",
     "metadata": {},
     "outputs": [
      {
       "output_type": "stream",
       "stream": "stdout",
       "text": [
        "             datetime  season  holiday  workingday  weather  temp   atemp  \\\n",
        "0 2011-01-01 00:00:00       1        0           0        1  9.84  14.395   \n",
        "1 2011-01-01 01:00:00       1        0           0        1  9.02  13.635   \n",
        "2 2011-01-01 02:00:00       1        0           0        1  9.02  13.635   \n",
        "3 2011-01-01 03:00:00       1        0           0        1  9.84  14.395   \n",
        "4 2011-01-01 04:00:00       1        0           0        1  9.84  14.395   \n",
        "\n",
        "   humidity  windspeed  casual  registered  count  \n",
        "0        81          0       3          13     16  \n",
        "1        80          0       8          32     40  \n",
        "2        80          0       5          27     32  \n",
        "3        75          0       3          10     13  \n",
        "4        75          0       0           1      1  \n",
        "\n",
        "[5 rows x 12 columns]\n"
       ]
      }
     ],
     "prompt_number": 349
    },
    {
     "cell_type": "markdown",
     "metadata": {},
     "source": [
      "What can be seen is that there are a number of different data types of various complexity. \n",
      "\n",
      "Most notably, is the usage which is broken into two categories, \"causal\" and \"registered\", representing the type of user. \n",
      "\n",
      "Another interesting column is \"weather\" which is represented by an integer value between 1 & 4.\n",
      "\n",
      "The date and time of the day are presented as a datetime object. This column will need to be processed to extract the constituent components e.g. hour, month, etc.\n",
      "\n",
      "The first step will be to extract the individual features of the datetime column.\n",
      "\n",
      "Obviously, as the challenge is to predict on the testing set, any processing done on the training dataset will also be applied to the testing set."
     ]
    },
    {
     "cell_type": "code",
     "collapsed": false,
     "input": [
      "temp = pd.DatetimeIndex(train['datetime'])\n",
      "train['year'] = temp.year\n",
      "train['month'] = temp.month\n",
      "train['hour'] = temp.hour\n",
      "train['dayofweek'] = temp.dayofweek\n",
      "train['dayofmonth'] = temp.day\n",
      "train['weekofyear'] = temp.weekofyear\n",
      "\n",
      "for col in ['casual', 'registered', 'count']:\n",
      "    train['log_' + col] = train[col].apply(lambda x: np.log1p(x))\n",
      " \n",
      "temp = pd.DatetimeIndex(test['datetime'])\n",
      "test['year'] = temp.year\n",
      "test['month'] = temp.month\n",
      "test['hour'] = temp.hour\n",
      "test['dayofweek'] = temp.dayofweek\n",
      "test['dayofmonth'] = temp.day\n",
      "test['weekofyear'] = temp.weekofyear"
     ],
     "language": "python",
     "metadata": {},
     "outputs": [],
     "prompt_number": 350
    },
    {
     "cell_type": "heading",
     "level": 3,
     "metadata": {},
     "source": [
      "Feature Encoding"
     ]
    },
    {
     "cell_type": "markdown",
     "metadata": {},
     "source": [
      "The next step undertaken is to perform preprocessing on the features.\n",
      "\n",
      "This was achieved using the sklearn.preprocessing packages[1].\n",
      "\n",
      "// TODO Talk about encoders"
     ]
    },
    {
     "cell_type": "code",
     "collapsed": false,
     "input": [
      "def encode_features(data) :\n",
      "\n",
      "    from sklearn_pandas import DataFrameMapper\n",
      "    from sklearn.preprocessing import LabelEncoder, StandardScaler, OneHotEncoder, Binarizer\n",
      "\n",
      "    mapper = DataFrameMapper([\n",
      "        (['month', 'dayofweek', 'season','weather'], OneHotEncoder()),\n",
      "        (['hour', 'dayofmonth', 'year', 'weekofyear'], None),\n",
      "        (['temp', 'atemp', 'windspeed', 'humidity'], StandardScaler()),\n",
      "        (['workingday', 'holiday'], Binarizer())\n",
      "        ])  \n",
      "\n",
      "    return mapper.fit_transform(data)\n",
      "\n",
      "f_train = encode_features(train)\n",
      "f_test = encode_features(test)"
     ],
     "language": "python",
     "metadata": {},
     "outputs": [],
     "prompt_number": 351
    },
    {
     "cell_type": "heading",
     "level": 3,
     "metadata": {},
     "source": [
      "A first attempt"
     ]
    },
    {
     "cell_type": "markdown",
     "metadata": {},
     "source": [
      "As part of class homework, there was an exercise to run \"a favourite\" classifier a number of times to record the empirical error frequency. This exercise can be used in an effort to solve this Kaggle challenge."
     ]
    },
    {
     "cell_type": "code",
     "collapsed": false,
     "input": [
      "from sklearn import neighbors\n",
      "\n",
      "counts = train['count']\n",
      "\n",
      "clf = neighbors.KNeighborsClassifier(n_neighbors=100)\n",
      "\n",
      "from sklearn.cross_validation import train_test_split\n",
      "from random import randint\n",
      "\n",
      "X_train, X_test, y_train, y_test = train_test_split(counts, f_train, test_size=0.2, random_state=randint(0,99))\n",
      "\n",
      "clf.fit(y_train, X_train)\n",
      "\n",
      "print clf.score(y_test, X_test)"
     ],
     "language": "python",
     "metadata": {},
     "outputs": [
      {
       "output_type": "stream",
       "stream": "stdout",
       "text": [
        "0.0211202938476\n"
       ]
      }
     ],
     "prompt_number": 338
    },
    {
     "cell_type": "markdown",
     "metadata": {},
     "source": [
      "Um, that didn't seem to be particularly successful!\n",
      "\n",
      "Lets consider a different classifier."
     ]
    },
    {
     "cell_type": "code",
     "collapsed": false,
     "input": [
      "from sklearn.ensemble import ExtraTreesRegressor\n",
      "from sklearn.ensemble import ExtraTreesClassifier\n",
      "\n",
      "counts = train['log_count']\n",
      "\n",
      "X_train, X_test, y_train, y_test = train_test_split(counts, f_train, test_size=0.2, random_state=randint(0,99))\n",
      "\n",
      "clf = ExtraTreesRegressor(n_estimators=1000, min_samples_split=6, oob_score=False, n_jobs=-1)\n",
      "clf = clf.fit(y_train, X_train)\n",
      "\n",
      "print clf.score(y_test, X_test)"
     ],
     "language": "python",
     "metadata": {},
     "outputs": [
      {
       "output_type": "stream",
       "stream": "stdout",
       "text": [
        "0.955482407865\n"
       ]
      }
     ],
     "prompt_number": 340
    },
    {
     "cell_type": "markdown",
     "metadata": {},
     "source": [
      "That seems like a pretty good estimator. Lets see what our friends at Kaggle make of it."
     ]
    },
    {
     "cell_type": "code",
     "collapsed": false,
     "input": [
      "clf = ExtraTreesRegressor(n_estimators=1000, min_samples_split=6, oob_score=False, n_jobs=-1)\n",
      "\n",
      "clf = clf.fit(f_train, train['log_count'])\n",
      "\n",
      "predicted = clf.predict(f_test)\n",
      "\n",
      "output_df['datetime'] = test['datetime']\n",
      "output_df['count'] = np.expm1(predicted)\n",
      "\n",
      "output_df.to_csv('Bike_prediction.csv', index=False)"
     ],
     "language": "python",
     "metadata": {},
     "outputs": [],
     "prompt_number": 343
    },
    {
     "cell_type": "markdown",
     "metadata": {},
     "source": [
      "Kaggle score the submission 0.40496! Putting that model at 182 place in the competition. Not a bad initial effort."
     ]
    },
    {
     "cell_type": "heading",
     "level": 3,
     "metadata": {},
     "source": [
      "A different model"
     ]
    },
    {
     "cell_type": "markdown",
     "metadata": {},
     "source": [
      "Now that there is a \"baseline\" model, I'll attempt to develop and improve upon a reasonably successful published model.\n",
      "\n",
      "The model to be used is the model suggested by EVERYBODY'S FAVORITE DATA BLOG[2] which is based on GradientBoostingRegressor[3]. This model scored 0.41969, so there is plenty of room for improvement. (To be fair the the author at EVERYBODY'S FAVORITE DATA BLOG, they were using the model as an illustration of Hyperparameter tuning.)"
     ]
    },
    {
     "cell_type": "code",
     "collapsed": false,
     "input": [
      "from sklearn.ensemble import GradientBoostingRegressor\n",
      "\n",
      "clf = GradientBoostingRegressor(n_estimators=200, max_depth=3)"
     ],
     "language": "python",
     "metadata": {},
     "outputs": [],
     "prompt_number": 258
    },
    {
     "cell_type": "markdown",
     "metadata": {},
     "source": [
      "In order to test this initial model it will be necessary to split the provided training data into \"train\" and \"test\" data. To achieve this use will be made of sklearn.cross_validation[4]. The \"actual\" count values will be taken from the training dataset."
     ]
    },
    {
     "cell_type": "code",
     "collapsed": false,
     "input": [
      "counts = train['log_count']\n",
      "\n",
      "from sklearn.cross_validation import train_test_split\n",
      "from random import randint\n",
      "\n",
      "X_train, X_test, y_train, y_test = train_test_split(counts, f_train, test_size=0.2, random_state=randint(0,99))"
     ],
     "language": "python",
     "metadata": {},
     "outputs": [],
     "prompt_number": 285
    },
    {
     "cell_type": "markdown",
     "metadata": {},
     "source": [
      "Now that the provided data has been split into training & testing sets, the next step to to train, or fit, the model based on the generated training sample."
     ]
    },
    {
     "cell_type": "code",
     "collapsed": false,
     "input": [
      "clf.fit(y_train, X_train)"
     ],
     "language": "python",
     "metadata": {},
     "outputs": [
      {
       "metadata": {},
       "output_type": "pyout",
       "prompt_number": 286,
       "text": [
        "GradientBoostingRegressor(alpha=0.9, init=None, learning_rate=0.05, loss='ls',\n",
        "             max_depth=10, max_features=None, max_leaf_nodes=None,\n",
        "             min_samples_leaf=20, min_samples_split=2, n_estimators=85,\n",
        "             random_state=None, subsample=1.0, verbose=0, warm_start=False)"
       ]
      }
     ],
     "prompt_number": 286
    },
    {
     "cell_type": "markdown",
     "metadata": {},
     "source": [
      "This trained model can now be used predict the counts for the generated test set and the accuracy measured."
     ]
    },
    {
     "cell_type": "code",
     "collapsed": false,
     "input": [
      "clf.score(y_test, X_test)"
     ],
     "language": "python",
     "metadata": {},
     "outputs": [
      {
       "metadata": {},
       "output_type": "pyout",
       "prompt_number": 287,
       "text": [
        "0.95411450404131448"
       ]
      }
     ],
     "prompt_number": 287
    },
    {
     "cell_type": "markdown",
     "metadata": {},
     "source": [
      "This shows that the model is performing at ~90% accuracy. This is a reasonable start. It's worth pointing out that the competition has got a defined evaluation algorithm [5] based on the Root Mean Squared Logarithmic Error (RMSLE) [6]. To get an idea of how a submission would score this algorithm can be implemented and the initial model scored."
     ]
    },
    {
     "cell_type": "markdown",
     "metadata": {},
     "source": [
      "So let's do better!"
     ]
    },
    {
     "cell_type": "code",
     "collapsed": false,
     "input": [
      "est = GradientBoostingRegressor(n_estimators=200)\n",
      "\n",
      "param_grid = {'learning_rate': [0.1, 0.05, 0.01],\n",
      "              'max_depth': [10, 15, 20],\n",
      "              'min_samples_leaf': [3, 5, 10, 20],\n",
      "              }\n",
      "\n",
      "from sklearn.grid_search import GridSearchCV\n",
      "gs_cv = GridSearchCV(est, param_grid, n_jobs=4).fit(y_train, X_train)\n",
      "\n",
      "print gs_cv.best_params_"
     ],
     "language": "python",
     "metadata": {},
     "outputs": [
      {
       "output_type": "stream",
       "stream": "stdout",
       "text": [
        "{'learning_rate': 0.1, 'max_depth': 10, 'min_samples_leaf': 20}\n"
       ]
      }
     ],
     "prompt_number": 288
    },
    {
     "cell_type": "code",
     "collapsed": false,
     "input": [
      "result = gs_cv.score(y_test, X_test)\n",
      "\n",
      "print result"
     ],
     "language": "python",
     "metadata": {},
     "outputs": [
      {
       "output_type": "stream",
       "stream": "stdout",
       "text": [
        "0.959490004959\n"
       ]
      }
     ],
     "prompt_number": 289
    },
    {
     "cell_type": "markdown",
     "metadata": {},
     "source": [
      "Accuracy going in the right direction!\n",
      "\n",
      "The best params returned from the GridSearch estimator will be used for further refining of this model.\n",
      "\n",
      "The next parameter to be turned will be the number of estimators. A \"brute force\" approach will be taken here. The loop will try different values for the number of estimators, ranging from 10 to 500. The error rates will be stored for inspection."
     ]
    },
    {
     "cell_type": "code",
     "collapsed": false,
     "input": [
      "error_train=[]\n",
      "error_test=[]\n",
      "for k in range(10, 201, 10):\n",
      "    \n",
      "    from sklearn.metrics import mean_absolute_error\n",
      "    \n",
      "    clf = GradientBoostingRegressor(n_estimators=k, learning_rate = 0.1, max_depth = 10, min_samples_leaf = 20)\n",
      " \n",
      "    clf.fit(y_train, X_train)\n",
      "    result = clf.predict(y_train)\n",
      "    error_train.append(mean_absolute_error(result, X_train))\n",
      " \n",
      "    result = clf.predict(y_test)\n",
      "    error_test.append(mean_absolute_error(result, X_test))"
     ],
     "language": "python",
     "metadata": {},
     "outputs": [],
     "prompt_number": 290
    },
    {
     "cell_type": "code",
     "collapsed": false,
     "input": [
      "%matplotlib inline\n",
      "import matplotlib.pyplot as plt\n",
      "\n",
      "x=range(10,201, 10)\n",
      "plt.style.use('ggplot')\n",
      "plt.plot(x, error_train, 'k')\n",
      "plt.plot(x, error_test, 'b')\n",
      "plt.xlabel('Number of Estimators', fontsize=18)\n",
      "plt.ylabel('Error', fontsize=18)\n",
      "plt.legend(['Train', 'Validation'], fontsize=18)\n",
      "plt.title('Error vs. Number of Estimators', fontsize=20)\n",
      "plt.show()"
     ],
     "language": "python",
     "metadata": {},
     "outputs": [
      {
       "metadata": {},
       "output_type": "display_data",
       "png": "[encoded data removed]",
       "text": [
        "<matplotlib.figure.Figure at 0x7f6107d28150>"
       ]
      }
     ],
     "prompt_number": 291
    },
    {
     "cell_type": "markdown",
     "metadata": {},
     "source": [
      "It can be seen that the number of errors begins to level off at about 100 estimators. This suggests that the model begins to overfit at this point. The number of esitmators will be reduced from 500 to 100 and the model will be re-ran."
     ]
    },
    {
     "cell_type": "code",
     "collapsed": false,
     "input": [
      "clf = GradientBoostingRegressor(n_estimators=100, learning_rate = 0.1, max_depth = 10, min_samples_leaf = 20)\n",
      "\n",
      "clf.fit(y_train, X_train)\n",
      "\n",
      "clf.score(y_test, X_test)"
     ],
     "language": "python",
     "metadata": {},
     "outputs": [
      {
       "metadata": {},
       "output_type": "pyout",
       "prompt_number": 292,
       "text": [
        "0.95828314629755129"
       ]
      }
     ],
     "prompt_number": 292
    },
    {
     "cell_type": "markdown",
     "metadata": {},
     "source": [
      "Again, this parameter tuning has brought about an improvement.\n",
      "\n",
      "The obvious improvement that has not been implemented is to treat the casual and registered users separately. Intuition suggests that casual users, for example, would be more influenced by weather/temperature. To investigate this it is possible to consider the correlation between temperature and casual/registered users."
     ]
    },
    {
     "cell_type": "code",
     "collapsed": false,
     "input": [
      "import numpy as np\n",
      "\n",
      "print np.corrcoef(train['atemp'], train['registered'])\n",
      "print np.corrcoef(train['atemp'], train['casual'])"
     ],
     "language": "python",
     "metadata": {},
     "outputs": [
      {
       "output_type": "stream",
       "stream": "stdout",
       "text": [
        "[[ 1.          0.31463539]\n",
        " [ 0.31463539  1.        ]]\n",
        "[[ 1.          0.46206654]\n",
        " [ 0.46206654  1.        ]]\n"
       ]
      }
     ],
     "prompt_number": 294
    },
    {
     "cell_type": "markdown",
     "metadata": {},
     "source": [
      "This intuition appears to be correct! The correlation appears to be higher for causal users. It next step will be to develop separate models for the dfferent user types. The same steps to turn the parameters that we used to develop the original model will be followed again."
     ]
    },
    {
     "cell_type": "heading",
     "level": 3,
     "metadata": {},
     "source": [
      "Registered Model"
     ]
    },
    {
     "cell_type": "code",
     "collapsed": false,
     "input": [
      "registerd_count = train['log_registered']\n",
      "X_train_reg, X_test_reg, y_train_reg, y_test_reg = train_test_split(registerd_count, f_train, test_size=0.2, random_state=randint(0,99))\n",
      "\n",
      "est = GradientBoostingRegressor(n_estimators=150)\n",
      "\n",
      "param_grid = {'learning_rate': [0.1, 0.05, 0.01],\n",
      "              'max_depth': [10, 15, 20],\n",
      "              'min_samples_leaf': [3, 5, 10, 20],\n",
      "              }\n",
      "\n",
      "from sklearn.grid_search import GridSearchCV\n",
      "gs_cv = GridSearchCV(est, param_grid, n_jobs=4).fit(y_train_reg, X_train_reg)\n",
      "\n",
      "print gs_cv.best_params_"
     ],
     "language": "python",
     "metadata": {},
     "outputs": [
      {
       "output_type": "stream",
       "stream": "stdout",
       "text": [
        "{'learning_rate': 0.1, 'max_depth': 10, 'min_samples_leaf': 20}\n"
       ]
      }
     ],
     "prompt_number": 295
    },
    {
     "cell_type": "code",
     "collapsed": false,
     "input": [
      "error_train_reg=[]\n",
      "error_test_reg=[]\n",
      "for k in range(10, 151, 10):\n",
      "    \n",
      "    from sklearn.metrics import mean_absolute_error\n",
      "    \n",
      "    clf = GradientBoostingRegressor(n_estimators=k, learning_rate = 0.1, max_depth = 10, min_samples_leaf = 20)\n",
      " \n",
      "    clf.fit(y_train_reg, X_train_reg)\n",
      "    result = clf.predict(y_train_reg)\n",
      "    error_train_reg.append(mean_absolute_error(result, X_train_reg))\n",
      " \n",
      "    result = clf.predict(y_test_reg)\n",
      "    error_test_reg.append(mean_absolute_error(result, X_test_reg))"
     ],
     "language": "python",
     "metadata": {},
     "outputs": [],
     "prompt_number": 296
    },
    {
     "cell_type": "code",
     "collapsed": false,
     "input": [
      "%matplotlib inline\n",
      "import matplotlib.pyplot as plt\n",
      "\n",
      "x=range(10,151, 10)\n",
      "plt.style.use('ggplot')\n",
      "plt.plot(x, error_train_reg, 'k')\n",
      "plt.plot(x, error_test_reg, 'b')\n",
      "plt.xlabel('Number of Estimators (registered)', fontsize=18)\n",
      "plt.ylabel('Error', fontsize=18)\n",
      "plt.legend(['Train', 'Validation'], fontsize=18)\n",
      "plt.title('Error vs. Number of Estimators', fontsize=20)\n",
      "plt.show()"
     ],
     "language": "python",
     "metadata": {},
     "outputs": [
      {
       "metadata": {},
       "output_type": "display_data",
       "png": "[encoded data removed]",
       "text": [
        "<matplotlib.figure.Figure at 0x7f61363a7210>"
       ]
      }
     ],
     "prompt_number": 297
    },
    {
     "cell_type": "heading",
     "level": 3,
     "metadata": {},
     "source": [
      "Casual Model"
     ]
    },
    {
     "cell_type": "code",
     "collapsed": false,
     "input": [
      "casual_count = train['log_casual']\n",
      "X_train_cas, X_test_cas, y_train_cas, y_test_cas = train_test_split(casual_count, f_train, test_size=0.2, random_state=randint(0,99))\n",
      "\n",
      "est = GradientBoostingRegressor(n_estimators=150)\n",
      "\n",
      "param_grid = {'learning_rate': [0.1, 0.05, 0.01],\n",
      "              'max_depth': [10, 15, 20],\n",
      "              'min_samples_leaf': [3, 5, 10, 20],\n",
      "              }\n",
      "\n",
      "from sklearn.grid_search import GridSearchCV\n",
      "gs_cv = GridSearchCV(est, param_grid, n_jobs=4).fit(y_train_cas, X_train_cas)\n",
      "\n",
      "print gs_cv.best_params_"
     ],
     "language": "python",
     "metadata": {},
     "outputs": [
      {
       "output_type": "stream",
       "stream": "stdout",
       "text": [
        "{'learning_rate': 0.05, 'max_depth': 10, 'min_samples_leaf': 20}\n"
       ]
      }
     ],
     "prompt_number": 298
    },
    {
     "cell_type": "code",
     "collapsed": false,
     "input": [
      "error_train_cas=[]\n",
      "error_test_cas=[]\n",
      "for k in range(10, 151, 10):\n",
      "    \n",
      "    from sklearn.metrics import mean_absolute_error\n",
      "    \n",
      "    clf = GradientBoostingRegressor(n_estimators=k, learning_rate = 0.05, max_depth = 10, min_samples_leaf = 20)\n",
      " \n",
      "    clf.fit(y_train_cas, X_train_cas)\n",
      "    result = clf.predict(y_train_cas)\n",
      "    error_train_cas.append(mean_absolute_error(result, X_train_cas))\n",
      " \n",
      "    result = clf.predict(y_test_cas)\n",
      "    error_test_cas.append(mean_absolute_error(result, X_test_cas))\n",
      "    \n",
      "%matplotlib inline\n",
      "import matplotlib.pyplot as plt\n",
      "\n",
      "x=range(10,151, 10)\n",
      "plt.style.use('ggplot')\n",
      "plt.plot(x, error_train_cas, 'k')\n",
      "plt.plot(x, error_test_cas, 'b')\n",
      "plt.xlabel('Number of Estimators (casual)', fontsize=18)\n",
      "plt.ylabel('Error', fontsize=18)\n",
      "plt.legend(['Train', 'Validation'], fontsize=18)\n",
      "plt.title('Error vs. Number of Estimators', fontsize=20)\n",
      "plt.show()"
     ],
     "language": "python",
     "metadata": {},
     "outputs": [
      {
       "metadata": {},
       "output_type": "display_data",
       "png": "[encoded data removed]",
       "text": [
        "<matplotlib.figure.Figure at 0x7f6115078590>"
       ]
      }
     ],
     "prompt_number": 299
    },
    {
     "cell_type": "heading",
     "level": 3,
     "metadata": {},
     "source": [
      "Combining the models"
     ]
    },
    {
     "cell_type": "code",
     "collapsed": false,
     "input": [
      "clf_registered = clf = GradientBoostingRegressor(n_estimators=100, learning_rate = 0.1, max_depth = 10, min_samples_leaf = 20)\n",
      "\n",
      "X_train_reg, X_test_reg, y_train_reg, y_test_reg = train_test_split(registerd_count, f_train, test_size=0.2, random_state=randint(0,99))\n",
      "\n",
      "clf_registered.fit(y_train_reg, X_train_reg)\n",
      "result = clf_registered.score(y_test_reg, X_test_reg)\n",
      "\n",
      "print result"
     ],
     "language": "python",
     "metadata": {},
     "outputs": [
      {
       "output_type": "stream",
       "stream": "stdout",
       "text": [
        "0.961695211393\n"
       ]
      }
     ],
     "prompt_number": 312
    },
    {
     "cell_type": "code",
     "collapsed": false,
     "input": [
      "clf_casual = clf = GradientBoostingRegressor(n_estimators=100, learning_rate = 0.05, max_depth = 10, min_samples_leaf = 20)\n",
      "\n",
      "X_train_cas, X_test_cas, y_train_cas, y_test_cas = train_test_split(casual_count, f_train, test_size=0.2, random_state=randint(0,99))\n",
      "\n",
      "clf_casual.fit(y_train_cas, X_train_cas)\n",
      "result = clf_casual.score(y_test_cas, X_test_cas)\n",
      "\n",
      "print result"
     ],
     "language": "python",
     "metadata": {},
     "outputs": [
      {
       "output_type": "stream",
       "stream": "stdout",
       "text": [
        "0.904788861839\n"
       ]
      }
     ],
     "prompt_number": 313
    },
    {
     "cell_type": "heading",
     "level": 3,
     "metadata": {},
     "source": [
      "Train and predict for submission"
     ]
    },
    {
     "cell_type": "code",
     "collapsed": false,
     "input": [
      "clf_registered.fit(f_train, train['log_registered'])\n",
      "clf_casual.fit(f_train, train['log_casual'])\n",
      "\n",
      "predicted_reg = clf_registered.predict(f_test)\n",
      "predicted_cas = clf_casual.predict(f_test)\n",
      "\n",
      "output_df['datetime'] = test['datetime']\n",
      "output_df['count'] = np.expm1(predicted_reg) + np.expm1(predicted_cas)\n",
      "\n",
      "output_df.to_csv('Bike_prediction.csv', index=False)"
     ],
     "language": "python",
     "metadata": {},
     "outputs": [],
     "prompt_number": 314
    },
    {
     "cell_type": "markdown",
     "metadata": {},
     "source": [
      "Kaggle score of 0.38200!\n",
      "\n",
      "This is a significant improvement on the model suggested by EVERYBODY'S FAVORITE DATA BLOG[2] which had a score of 0.41969 (currently in 322nd place).\n",
      "\n",
      "This improvement is down to additional feature developement and encoding."
     ]
    },
    {
     "cell_type": "code",
     "collapsed": false,
     "input": [
      "from IPython.display import Image\n",
      "i = Image(filename='Kaggle_68th.png')\n",
      "i"
     ],
     "language": "python",
     "metadata": {},
     "outputs": [
      {
       "metadata": {},
       "output_type": "pyout",
       "png": "[encoded data removed]",
       "prompt_number": 315,
       "text": [
        "<IPython.core.display.Image at 0x7f61364077d0>"
       ]
      }
     ],
     "prompt_number": 315
    },
    {
     "cell_type": "heading",
     "level": 3,
     "metadata": {},
     "source": [
      "A final thought - more an afterthought"
     ]
    },
    {
     "cell_type": "markdown",
     "metadata": {},
     "source": [
      "The initial Kaggle submission scored quite well, without breaking the the casual and registered counts into separate models.\n",
      "\n",
      "It is worth revisitng this model with the split applied."
     ]
    },
    {
     "cell_type": "code",
     "collapsed": false,
     "input": [
      "clf_registered = ExtraTreesRegressor(n_estimators=1000, min_samples_split=6, oob_score=False, n_jobs=-1)\n",
      "clf_casual = ExtraTreesRegressor(n_estimators=1000, min_samples_split=6, oob_score=False, n_jobs=-1)\n",
      "\n",
      "clf_registered.fit(f_train, train['log_registered'])\n",
      "clf_casual.fit(f_train, train['log_casual'])\n",
      "\n",
      "predicted_registered = clf_registered.predict(f_test)\n",
      "predicted_casual = clf_casual.predict(f_test)\n",
      "\n",
      "output_df['datetime'] = test['datetime']\n",
      "output_df['count'] = np.expm1(predicted_registered) + np.expm1(predicted_casual)\n",
      "\n",
      "output_df.to_csv('Bike_prediction.csv', index=False)"
     ],
     "language": "python",
     "metadata": {},
     "outputs": [],
     "prompt_number": 353
    },
    {
     "cell_type": "markdown",
     "metadata": {},
     "source": [
      "This resulted in a scored of 0.40136, good enough for 162nd in the competition. This is an improvement of 0.0036 and 20 places in the table."
     ]
    },
    {
     "cell_type": "heading",
     "level": 3,
     "metadata": {},
     "source": [
      "References"
     ]
    },
    {
     "cell_type": "markdown",
     "metadata": {},
     "source": [
      "[1] Preprocessing data - http://scikit-learn.org/stable/modules/preprocessing.html\n",
      "\n",
      "[2] EVERYBODY'S FAVORITE DATA BLOG - Forecasting Bike Sharing Demand - http://efavdb.com/bike-share-forecasting/\n",
      "\n",
      "[3] GradientBoostingRegressor - http://scikit-learn.org/stable/modules/generated/sklearn.ensemble.GradientBoostingRegressor.html\n",
      "\n",
      "[4] sklearn.cross_validation.train_test_split - http://scikit-learn.org/stable/modules/generated/sklearn.cross_validation.train_test_split.html\n",
      "\n",
      "[5] Evaluation - https://www.kaggle.com/c/bike-sharing-demand/details/evaluation\n",
      "\n",
      "[6] Root Mean Squared Logarithmic Error - https://www.kaggle.com/wiki/RootMeanSquaredLogarithmicError"
     ]
    }
   ],
   "metadata": {}
  }
 ]
}